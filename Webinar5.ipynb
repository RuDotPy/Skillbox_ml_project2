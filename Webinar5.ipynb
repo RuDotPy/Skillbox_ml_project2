{
 "cells": [
  {
   "cell_type": "markdown",
   "id": "adb696f4",
   "metadata": {},
   "source": [
    "# Этап 4\n",
    "\n",
    "Этот этап включает в себя создание Docker-образа для вашего проекта и изменение манифеста MLflow Project для запуска вашего эксперимента в изолированном Docker-контейнере. Вот шаги, которые вам нужно выполнить:"
   ]
  },
  {
   "cell_type": "markdown",
   "id": "48847339",
   "metadata": {},
   "source": [
    "## 1. Создание Dockerfile и файла requirements.txt\n",
    "\n",
    "В **корневой директории** вашего проекта создайте файл Dockerfile и requirements.txt с следующим содержимым:"
   ]
  },
  {
   "cell_type": "code",
   "execution_count": 1,
   "id": "14672cd4",
   "metadata": {},
   "outputs": [],
   "source": [
    "# В каталоге вашего проекта создайте файл с именем MLproject (без расширения файла).\n",
    "\n",
    "import os\n",
    "\n",
    "# Создание файлов внутри директорий\n",
    "open(\"Dockerfile\", \"w\").close()\n",
    "open(\"requirements.txt\", \"w\").close()"
   ]
  },
  {
   "cell_type": "code",
   "execution_count": 2,
   "id": "b7df72e2",
   "metadata": {},
   "outputs": [],
   "source": [
    "import os"
   ]
  },
  {
   "cell_type": "code",
   "execution_count": 2,
   "id": "a03d08cb",
   "metadata": {},
   "outputs": [],
   "source": [
    "Docker_ML_content = \"\"\"\n",
    "# Используйте официальный образ Python\n",
    "FROM python:3.10-slim-buster\n",
    "\n",
    "# Установите рабочую директорию в /app\n",
    "WORKDIR /app\n",
    "\n",
    "# Копируйте текущий каталог в /app\n",
    "COPY . /app\n",
    "\n",
    "# Установите все необходимые пакеты из файла requirements.txt\n",
    "COPY requirements.txt /tmp\n",
    "RUN pip install -r /tmp/requirements.txt\n",
    "\n",
    "# Запустите train.py при запуске контейнера\n",
    "CMD [\"python\", \"train.py\"]\n",
    "\"\"\"\n",
    "with open(\"Dockerfile\", \"w\") as file:\n",
    "    file.write(Docker_ML_content)"
   ]
  },
  {
   "cell_type": "code",
   "execution_count": 3,
   "id": "28508a13",
   "metadata": {},
   "outputs": [],
   "source": [
    "requirements_ML_content = \"\"\"\n",
    "cryptography==41.0.3\n",
    "boto3==1.28.39\n",
    "mlflow==2.6.0\n",
    "pymysql==1.1.0\n",
    "scikit-learn==1.0.2\n",
    "pandas==1.4.4\n",
    "\"\"\"\n",
    "\n",
    "with open(\"requirements.txt\", \"w\") as file:\n",
    "    file.write(requirements_ML_content)\n"
   ]
  },
  {
   "cell_type": "markdown",
   "id": "b9a74dfb",
   "metadata": {},
   "source": [
    "## 2. Сборка Docker-образа"
   ]
  },
  {
   "cell_type": "code",
   "execution_count": 4,
   "id": "b7bfe193",
   "metadata": {},
   "outputs": [
    {
     "name": "stderr",
     "output_type": "stream",
     "text": [
      "2024/01/20 22:12:49 http2: server: error reading preface from client //./pipe/docker_engine: file has already been closed\n",
      "#1 [internal] load .dockerignore\n",
      "#1 transferring context: 2B 0.0s done\n",
      "#1 DONE 0.1s\n",
      "\n",
      "#2 [internal] load build definition from Dockerfile\n",
      "#2 transferring dockerfile: 573B 0.0s done\n",
      "#2 DONE 0.1s\n",
      "\n",
      "#3 [internal] load metadata for docker.io/library/python:3.10-slim-buster\n",
      "#3 DONE 2.5s\n",
      "\n",
      "#4 [1/5] FROM docker.io/library/python:3.10-slim-buster@sha256:37aa274c2d001f09b14828450d903c55f821c90f225fdfdd80c5180fcca77b3f\n",
      "#4 CACHED\n",
      "\n",
      "#5 [internal] load build context\n",
      "#5 transferring context: 421.44kB 0.1s done\n",
      "#5 DONE 0.1s\n",
      "\n",
      "#6 [2/5] WORKDIR /app\n",
      "#6 DONE 0.1s\n",
      "\n",
      "#7 [3/5] COPY . /app\n",
      "#7 DONE 0.1s\n",
      "\n",
      "#8 [4/5] COPY requirements.txt /tmp\n",
      "#8 DONE 0.0s\n",
      "\n",
      "#9 [5/5] RUN pip install -r /tmp/requirements.txt\n",
      "#9 1.615 Collecting cryptography==41.0.3\n",
      "#9 1.849   Downloading cryptography-41.0.3-cp37-abi3-manylinux_2_28_x86_64.whl (4.3 MB)\n",
      "#9 2.705      ━━━━━━━━━━━━━━━━━━━━━━━━━━━━━━━━━━━━━━━━ 4.3/4.3 MB 5.1 MB/s eta 0:00:00\n",
      "#9 3.148 Collecting boto3==1.28.39\n",
      "#9 3.194   Downloading boto3-1.28.39-py3-none-any.whl (135 kB)\n",
      "#9 3.215      ━━━━━━━━━━━━━━━━━━━━━━━━━━━━━━━━━━━━━━━ 135.8/135.8 kB 6.8 MB/s eta 0:00:00\n",
      "#9 3.308 Collecting mlflow==2.6.0\n",
      "#9 3.356   Downloading mlflow-2.6.0-py3-none-any.whl (18.3 MB)\n",
      "#9 4.999      ━━━━━━━━━━━━━━━━━━━━━━━━━━━━━━━━━━━━━━━━ 18.3/18.3 MB 11.4 MB/s eta 0:00:00\n",
      "#9 5.075 Collecting pymysql==1.1.0\n",
      "#9 5.123   Downloading PyMySQL-1.1.0-py3-none-any.whl (44 kB)\n",
      "#9 5.130      ━━━━━━━━━━━━━━━━━━━━━━━━━━━━━━━━━━━━━━━━ 44.8/44.8 kB 6.9 MB/s eta 0:00:00\n",
      "#9 5.304 Collecting scikit-learn==1.0.2\n",
      "#9 5.351   Downloading scikit_learn-1.0.2-cp310-cp310-manylinux_2_17_x86_64.manylinux2014_x86_64.whl (26.5 MB)\n",
      "#9 7.736      ━━━━━━━━━━━━━━━━━━━━━━━━━━━━━━━━━━━━━━━━ 26.5/26.5 MB 10.2 MB/s eta 0:00:00\n",
      "#9 7.967 Collecting pandas==1.4.4\n",
      "#9 8.018   Downloading pandas-1.4.4-cp310-cp310-manylinux_2_17_x86_64.manylinux2014_x86_64.whl (11.6 MB)\n",
      "#9 9.433      ━━━━━━━━━━━━━━━━━━━━━━━━━━━━━━━━━━━━━━━━ 11.6/11.6 MB 8.5 MB/s eta 0:00:00\n",
      "#9 9.642 Collecting cffi>=1.12\n",
      "#9 9.687   Downloading cffi-1.16.0-cp310-cp310-manylinux_2_17_x86_64.manylinux2014_x86_64.whl (443 kB)\n",
      "#9 9.743      ━━━━━━━━━━━━━━━━━━━━━━━━━━━━━━━━━━━━━━━ 443.9/443.9 kB 8.1 MB/s eta 0:00:00\n",
      "#9 10.26 Collecting botocore<1.32.0,>=1.31.39\n",
      "#9 10.34   Downloading botocore-1.31.85-py3-none-any.whl (11.3 MB)\n",
      "#9 11.56      ━━━━━━━━━━━━━━━━━━━━━━━━━━━━━━━━━━━━━━━━ 11.3/11.3 MB 9.3 MB/s eta 0:00:00\n",
      "#9 11.66 Collecting s3transfer<0.7.0,>=0.6.0\n",
      "#9 11.71   Downloading s3transfer-0.6.2-py3-none-any.whl (79 kB)\n",
      "#9 11.72      ━━━━━━━━━━━━━━━━━━━━━━━━━━━━━━━━━━━━━━━━ 79.8/79.8 kB 5.8 MB/s eta 0:00:00\n",
      "#9 11.78 Collecting jmespath<2.0.0,>=0.7.1\n",
      "#9 11.82   Downloading jmespath-1.0.1-py3-none-any.whl (20 kB)\n",
      "#9 11.97 Collecting pyyaml<7,>=5.1\n",
      "#9 12.02   Downloading PyYAML-6.0.1-cp310-cp310-manylinux_2_17_x86_64.manylinux2014_x86_64.whl (705 kB)\n",
      "#9 12.09      ━━━━━━━━━━━━━━━━━━━━━━━━━━━━━━━━━━━━━━ 705.5/705.5 kB 10.0 MB/s eta 0:00:00\n",
      "#9 12.28 Collecting scipy<2\n",
      "#9 12.34   Downloading scipy-1.11.4-cp310-cp310-manylinux_2_17_x86_64.manylinux2014_x86_64.whl (36.4 MB)\n",
      "#9 17.43      ━━━━━━━━━━━━━━━━━━━━━━━━━━━━━━━━━━━━━━━━ 36.4/36.4 MB 6.2 MB/s eta 0:00:00\n",
      "#9 17.53 Collecting Jinja2<4,>=2.11\n",
      "#9 17.58   Downloading Jinja2-3.1.3-py3-none-any.whl (133 kB)\n",
      "#9 17.60      ━━━━━━━━━━━━━━━━━━━━━━━━━━━━━━━━━━━━━━━ 133.2/133.2 kB 6.8 MB/s eta 0:00:00\n",
      "#9 18.02 Collecting sqlalchemy<3,>=1.4.0\n",
      "#9 18.08   Downloading SQLAlchemy-2.0.25-cp310-cp310-manylinux_2_17_x86_64.manylinux2014_x86_64.whl (3.1 MB)\n",
      "#9 18.58      ━━━━━━━━━━━━━━━━━━━━━━━━━━━━━━━━━━━━━━━━ 3.1/3.1 MB 6.1 MB/s eta 0:00:00\n",
      "#9 18.67 Collecting sqlparse<1,>=0.4.0\n",
      "#9 18.72   Downloading sqlparse-0.4.4-py3-none-any.whl (41 kB)\n",
      "#9 18.74      ━━━━━━━━━━━━━━━━━━━━━━━━━━━━━━━━━━━━━━━━ 41.2/41.2 kB 1.4 MB/s eta 0:00:00\n",
      "#9 18.84 Collecting alembic!=1.10.0,<2\n",
      "#9 18.89   Downloading alembic-1.13.1-py3-none-any.whl (233 kB)\n",
      "#9 18.93      ━━━━━━━━━━━━━━━━━━━━━━━━━━━━━━━━━━━━━━━ 233.4/233.4 kB 7.3 MB/s eta 0:00:00\n",
      "#9 19.00 Collecting packaging<24\n",
      "#9 19.05   Downloading packaging-23.2-py3-none-any.whl (53 kB)\n",
      "#9 19.06      ━━━━━━━━━━━━━━━━━━━━━━━━━━━━━━━━━━━━━━━━ 53.0/53.0 kB 5.3 MB/s eta 0:00:00\n",
      "#9 19.15 Collecting importlib-metadata!=4.7.0,<7,>=3.7.0\n",
      "#9 19.20   Downloading importlib_metadata-6.11.0-py3-none-any.whl (23 kB)\n",
      "#9 19.28 Collecting gitpython<4,>=2.1.0\n",
      "#9 19.33   Downloading GitPython-3.1.41-py3-none-any.whl (196 kB)\n",
      "#9 19.36      ━━━━━━━━━━━━━━━━━━━━━━━━━━━━━━━━━━━━━━━ 196.4/196.4 kB 6.3 MB/s eta 0:00:00\n",
      "#9 19.52 Collecting requests<3,>=2.17.3\n",
      "#9 19.56   Downloading requests-2.31.0-py3-none-any.whl (62 kB)\n",
      "#9 19.57      ━━━━━━━━━━━━━━━━━━━━━━━━━━━━━━━━━━━━━━━━ 62.6/62.6 kB 6.1 MB/s eta 0:00:00\n",
      "#9 19.64 Collecting markdown<4,>=3.3\n",
      "#9 19.69   Downloading Markdown-3.5.2-py3-none-any.whl (103 kB)\n",
      "#9 19.70      ━━━━━━━━━━━━━━━━━━━━━━━━━━━━━━━━━━━━━━━ 103.9/103.9 kB 6.8 MB/s eta 0:00:00\n",
      "#9 19.76 Collecting entrypoints<1\n",
      "#9 19.81   Downloading entrypoints-0.4-py3-none-any.whl (5.3 kB)\n",
      "#9 19.87 Collecting querystring-parser<2\n",
      "#9 19.91   Downloading querystring_parser-1.2.4-py2.py3-none-any.whl (7.9 kB)\n",
      "#9 19.98 Collecting Flask<3\n",
      "#9 20.03   Downloading flask-2.3.3-py3-none-any.whl (96 kB)\n",
      "#9 20.05      ━━━━━━━━━━━━━━━━━━━━━━━━━━━━━━━━━━━━━━━━ 96.1/96.1 kB 5.4 MB/s eta 0:00:00\n",
      "#9 20.11 Collecting cloudpickle<3\n",
      "#9 20.16   Downloading cloudpickle-2.2.1-py3-none-any.whl (25 kB)\n",
      "#9 20.23 Collecting click<9,>=7.0\n",
      "#9 20.28   Downloading click-8.1.7-py3-none-any.whl (97 kB)\n",
      "#9 20.30      ━━━━━━━━━━━━━━━━━━━━━━━━━━━━━━━━━━━━━━━━ 97.9/97.9 kB 6.0 MB/s eta 0:00:00\n",
      "#9 20.37 Collecting databricks-cli<1,>=0.8.7\n",
      "#9 20.44   Downloading databricks_cli-0.18.0-py2.py3-none-any.whl (150 kB)\n",
      "#9 20.47      ━━━━━━━━━━━━━━━━━━━━━━━━━━━━━━━━━━━━━━━ 150.3/150.3 kB 5.0 MB/s eta 0:00:00\n",
      "#9 20.73 Collecting protobuf<5,>=3.12.0\n",
      "#9 20.77   Downloading protobuf-4.25.2-cp37-abi3-manylinux2014_x86_64.whl (294 kB)\n",
      "#9 20.83      ━━━━━━━━━━━━━━━━━━━━━━━━━━━━━━━━━━━━━━━ 294.6/294.6 kB 5.1 MB/s eta 0:00:00\n",
      "#9 20.96 Collecting pyarrow<13,>=4.0.0\n",
      "#9 21.01   Downloading pyarrow-12.0.1-cp310-cp310-manylinux_2_17_x86_64.manylinux2014_x86_64.whl (38.9 MB)\n",
      "#9 27.53      ━━━━━━━━━━━━━━━━━━━━━━━━━━━━━━━━━━━━━━━━ 38.9/38.9 MB 3.9 MB/s eta 0:00:00\n",
      "#9 27.67 Collecting pytz<2024\n",
      "#9 27.72   Downloading pytz-2023.3.post1-py2.py3-none-any.whl (502 kB)\n",
      "#9 27.82      ━━━━━━━━━━━━━━━━━━━━━━━━━━━━━━━━━━━━━━━ 502.5/502.5 kB 4.8 MB/s eta 0:00:00\n",
      "#9 27.90 Collecting gunicorn<22\n",
      "#9 27.95   Downloading gunicorn-21.2.0-py3-none-any.whl (80 kB)\n",
      "#9 27.98      ━━━━━━━━━━━━━━━━━━━━━━━━━━━━━━━━━━━━━━━━ 80.2/80.2 kB 2.1 MB/s eta 0:00:00\n",
      "#9 28.20 Collecting matplotlib<4\n",
      "#9 28.25   Downloading matplotlib-3.8.2-cp310-cp310-manylinux_2_17_x86_64.manylinux2014_x86_64.whl (11.6 MB)\n",
      "#9 30.34      ━━━━━━━━━━━━━━━━━━━━━━━━━━━━━━━━━━━━━━━━ 11.6/11.6 MB 5.6 MB/s eta 0:00:00\n",
      "#9 30.43 Collecting docker<7,>=4.0.0\n",
      "#9 30.48   Downloading docker-6.1.3-py3-none-any.whl (148 kB)\n",
      "#9 30.50      ━━━━━━━━━━━━━━━━━━━━━━━━━━━━━━━━━━━━━━━ 148.1/148.1 kB 6.4 MB/s eta 0:00:00\n",
      "#9 30.77 Collecting numpy<2\n",
      "#9 30.81   Downloading numpy-1.26.3-cp310-cp310-manylinux_2_17_x86_64.manylinux2014_x86_64.whl (18.2 MB)\n",
      "#9 33.77      ━━━━━━━━━━━━━━━━━━━━━━━━━━━━━━━━━━━━━━━━ 18.2/18.2 MB 6.7 MB/s eta 0:00:00\n",
      "#9 34.01 Collecting threadpoolctl>=2.0.0\n",
      "#9 34.05   Downloading threadpoolctl-3.2.0-py3-none-any.whl (15 kB)\n",
      "#9 34.13 Collecting joblib>=0.11\n",
      "#9 34.18   Downloading joblib-1.3.2-py3-none-any.whl (302 kB)\n",
      "#9 34.23      ━━━━━━━━━━━━━━━━━━━━━━━━━━━━━━━━━━━━━━━ 302.2/302.2 kB 6.0 MB/s eta 0:00:00\n",
      "#9 34.30 Collecting python-dateutil>=2.8.1\n",
      "#9 34.34   Downloading python_dateutil-2.8.2-py2.py3-none-any.whl (247 kB)\n",
      "#9 34.38      ━━━━━━━━━━━━━━━━━━━━━━━━━━━━━━━━━━━━━━━ 247.7/247.7 kB 7.5 MB/s eta 0:00:00\n",
      "#9 34.46 Collecting typing-extensions>=4\n",
      "#9 34.51   Downloading typing_extensions-4.9.0-py3-none-any.whl (32 kB)\n",
      "#9 34.59 Collecting Mako\n",
      "#9 34.64   Downloading Mako-1.3.0-py3-none-any.whl (78 kB)\n",
      "#9 34.66      ━━━━━━━━━━━━━━━━━━━━━━━━━━━━━━━━━━━━━━━━ 78.6/78.6 kB 3.6 MB/s eta 0:00:00\n",
      "#9 34.75 Collecting urllib3<2.1,>=1.25.4\n",
      "#9 34.79   Downloading urllib3-2.0.7-py3-none-any.whl (124 kB)\n",
      "#9 34.81      ━━━━━━━━━━━━━━━━━━━━━━━━━━━━━━━━━━━━━━━ 124.2/124.2 kB 7.8 MB/s eta 0:00:00\n",
      "#9 34.88 Collecting pycparser\n",
      "#9 34.92   Downloading pycparser-2.21-py2.py3-none-any.whl (118 kB)\n",
      "#9 34.94      ━━━━━━━━━━━━━━━━━━━━━━━━━━━━━━━━━━━━━━━ 118.7/118.7 kB 7.5 MB/s eta 0:00:00\n",
      "#9 35.02 Collecting tabulate>=0.7.7\n",
      "#9 35.07   Downloading tabulate-0.9.0-py3-none-any.whl (35 kB)\n",
      "#9 35.15 Collecting six>=1.10.0\n",
      "#9 35.19   Downloading six-1.16.0-py2.py3-none-any.whl (11 kB)\n",
      "#9 35.27 Collecting pyjwt>=1.7.0\n",
      "#9 35.33   Downloading PyJWT-2.8.0-py3-none-any.whl (22 kB)\n",
      "#9 35.40 Collecting oauthlib>=3.1.0\n",
      "#9 35.44   Downloading oauthlib-3.2.2-py3-none-any.whl (151 kB)\n",
      "#9 35.46      ━━━━━━━━━━━━━━━━━━━━━━━━━━━━━━━━━━━━━━━ 151.7/151.7 kB 6.8 MB/s eta 0:00:00\n",
      "#9 35.55 Collecting websocket-client>=0.32.0\n",
      "#9 35.60   Downloading websocket_client-1.7.0-py3-none-any.whl (58 kB)\n",
      "#9 35.61      ━━━━━━━━━━━━━━━━━━━━━━━━━━━━━━━━━━━━━━━━ 58.5/58.5 kB 6.3 MB/s eta 0:00:00\n",
      "#9 35.68 Collecting Werkzeug>=2.3.7\n",
      "#9 35.73   Downloading werkzeug-3.0.1-py3-none-any.whl (226 kB)\n",
      "#9 35.76      ━━━━━━━━━━━━━━━━━━━━━━━━━━━━━━━━━━━━━━━ 226.7/226.7 kB 7.8 MB/s eta 0:00:00\n",
      "#9 35.81 Collecting blinker>=1.6.2\n",
      "#9 35.86   Downloading blinker-1.7.0-py3-none-any.whl (13 kB)\n",
      "#9 35.92 Collecting itsdangerous>=2.1.2\n",
      "#9 35.96   Downloading itsdangerous-2.1.2-py3-none-any.whl (15 kB)\n",
      "#9 36.03 Collecting gitdb<5,>=4.0.1\n",
      "#9 36.08   Downloading gitdb-4.0.11-py3-none-any.whl (62 kB)\n",
      "#9 36.09      ━━━━━━━━━━━━━━━━━━━━━━━━━━━━━━━━━━━━━━━━ 62.7/62.7 kB 8.9 MB/s eta 0:00:00\n",
      "#9 36.18 Collecting zipp>=0.5\n",
      "#9 36.22   Downloading zipp-3.17.0-py3-none-any.whl (7.4 kB)\n",
      "#9 36.33 Collecting MarkupSafe>=2.0\n",
      "#9 36.38   Downloading MarkupSafe-2.1.4-cp310-cp310-manylinux_2_17_x86_64.manylinux2014_x86_64.whl (25 kB)\n",
      "#9 36.67 Collecting pillow>=8\n",
      "#9 36.71   Downloading pillow-10.2.0-cp310-cp310-manylinux_2_28_x86_64.whl (4.5 MB)\n",
      "#9 37.33      ━━━━━━━━━━━━━━━━━━━━━━━━━━━━━━━━━━━━━━━━ 4.5/4.5 MB 7.3 MB/s eta 0:00:00\n",
      "#9 37.46 Collecting contourpy>=1.0.1\n",
      "#9 37.51   Downloading contourpy-1.2.0-cp310-cp310-manylinux_2_17_x86_64.manylinux2014_x86_64.whl (310 kB)\n",
      "#9 37.55      ━━━━━━━━━━━━━━━━━━━━━━━━━━━━━━━━━━━━━━━ 310.7/310.7 kB 7.2 MB/s eta 0:00:00\n",
      "#9 37.63 Collecting pyparsing>=2.3.1\n",
      "#9 37.69   Downloading pyparsing-3.1.1-py3-none-any.whl (103 kB)\n",
      "#9 37.71      ━━━━━━━━━━━━━━━━━━━━━━━━━━━━━━━━━━━━━━━ 103.1/103.1 kB 4.7 MB/s eta 0:00:00\n",
      "#9 37.85 Collecting fonttools>=4.22.0\n",
      "#9 37.91   Downloading fonttools-4.47.2-cp310-cp310-manylinux_2_17_x86_64.manylinux2014_x86_64.whl (4.6 MB)\n",
      "#9 38.53      ━━━━━━━━━━━━━━━━━━━━━━━━━━━━━━━━━━━━━━━━ 4.6/4.6 MB 7.4 MB/s eta 0:00:00\n",
      "#9 38.59 Collecting cycler>=0.10\n",
      "#9 38.64   Downloading cycler-0.12.1-py3-none-any.whl (8.3 kB)\n",
      "#9 38.74 Collecting kiwisolver>=1.3.1\n",
      "#9 38.80   Downloading kiwisolver-1.4.5-cp310-cp310-manylinux_2_12_x86_64.manylinux2010_x86_64.whl (1.6 MB)\n",
      "#9 39.02      ━━━━━━━━━━━━━━━━━━━━━━━━━━━━━━━━━━━━━━━━ 1.6/1.6 MB 7.4 MB/s eta 0:00:00\n",
      "#9 39.19 Collecting charset-normalizer<4,>=2\n",
      "#9 39.25   Downloading charset_normalizer-3.3.2-cp310-cp310-manylinux_2_17_x86_64.manylinux2014_x86_64.whl (142 kB)\n",
      "#9 39.27      ━━━━━━━━━━━━━━━━━━━━━━━━━━━━━━━━━━━━━━━ 142.1/142.1 kB 8.2 MB/s eta 0:00:00\n",
      "#9 39.48 Collecting idna<4,>=2.5\n",
      "#9 39.52   Downloading idna-3.6-py3-none-any.whl (61 kB)\n",
      "#9 39.53      ━━━━━━━━━━━━━━━━━━━━━━━━━━━━━━━━━━━━━━━━ 61.6/61.6 kB 6.4 MB/s eta 0:00:00\n",
      "#9 39.59 Collecting certifi>=2017.4.17\n",
      "#9 39.64   Downloading certifi-2023.11.17-py3-none-any.whl (162 kB)\n",
      "#9 39.66      ━━━━━━━━━━━━━━━━━━━━━━━━━━━━━━━━━━━━━━━ 162.5/162.5 kB 8.6 MB/s eta 0:00:00\n",
      "#9 40.04 Collecting greenlet!=0.4.17\n",
      "#9 40.09   Downloading greenlet-3.0.3-cp310-cp310-manylinux_2_24_x86_64.manylinux_2_28_x86_64.whl (616 kB)\n",
      "#9 40.17      ━━━━━━━━━━━━━━━━━━━━━━━━━━━━━━━━━━━━━━━ 616.0/616.0 kB 8.0 MB/s eta 0:00:00\n",
      "#9 40.32 Collecting smmap<6,>=3.0.1\n",
      "#9 40.36   Downloading smmap-5.0.1-py3-none-any.whl (24 kB)\n",
      "#9 40.81 Installing collected packages: pytz, zipp, websocket-client, urllib3, typing-extensions, threadpoolctl, tabulate, sqlparse, smmap, six, pyyaml, pyparsing, pymysql, pyjwt, pycparser, protobuf, pillow, packaging, oauthlib, numpy, MarkupSafe, markdown, kiwisolver, joblib, jmespath, itsdangerous, idna, greenlet, fonttools, entrypoints, cycler, cloudpickle, click, charset-normalizer, certifi, blinker, Werkzeug, sqlalchemy, scipy, requests, querystring-parser, python-dateutil, pyarrow, Mako, Jinja2, importlib-metadata, gunicorn, gitdb, contourpy, cffi, scikit-learn, pandas, matplotlib, gitpython, Flask, docker, databricks-cli, cryptography, botocore, alembic, s3transfer, mlflow, boto3\n",
      "#9 54.31 Successfully installed Flask-2.3.3 Jinja2-3.1.3 Mako-1.3.0 MarkupSafe-2.1.4 Werkzeug-3.0.1 alembic-1.13.1 blinker-1.7.0 boto3-1.28.39 botocore-1.31.85 certifi-2023.11.17 cffi-1.16.0 charset-normalizer-3.3.2 click-8.1.7 cloudpickle-2.2.1 contourpy-1.2.0 cryptography-41.0.3 cycler-0.12.1 databricks-cli-0.18.0 docker-6.1.3 entrypoints-0.4 fonttools-4.47.2 gitdb-4.0.11 gitpython-3.1.41 greenlet-3.0.3 gunicorn-21.2.0 idna-3.6 importlib-metadata-6.11.0 itsdangerous-2.1.2 jmespath-1.0.1 joblib-1.3.2 kiwisolver-1.4.5 markdown-3.5.2 matplotlib-3.8.2 mlflow-2.6.0 numpy-1.26.3 oauthlib-3.2.2 packaging-23.2 pandas-1.4.4 pillow-10.2.0 protobuf-4.25.2 pyarrow-12.0.1 pycparser-2.21 pyjwt-2.8.0 pymysql-1.1.0 pyparsing-3.1.1 python-dateutil-2.8.2 pytz-2023.3.post1 pyyaml-6.0.1 querystring-parser-1.2.4 requests-2.31.0 s3transfer-0.6.2 scikit-learn-1.0.2 scipy-1.11.4 six-1.16.0 smmap-5.0.1 sqlalchemy-2.0.25 sqlparse-0.4.4 tabulate-0.9.0 threadpoolctl-3.2.0 typing-extensions-4.9.0 urllib3-2.0.7 websocket-client-1.7.0 zipp-3.17.0\n",
      "#9 54.31 WARNING: Running pip as the 'root' user can result in broken permissions and conflicting behaviour with the system package manager. It is recommended to use a virtual environment instead: https://pip.pypa.io/warnings/venv\n",
      "#9 54.50 \n",
      "#9 54.50 [notice] A new release of pip is available: 23.0.1 -> 23.3.2\n",
      "#9 54.50 [notice] To update, run: pip install --upgrade pip\n",
      "#9 DONE 55.8s\n",
      "\n",
      "#10 exporting to image\n",
      "#10 exporting layers\n",
      "#10 exporting layers 3.3s done\n",
      "#10 writing image sha256:553ac8dbb60225a271537d74d42dde6ecacbe6fb6b3e7429fc2bda1efd876f6b done\n",
      "#10 naming to docker.io/library/kinopoisk:1.0.0 done\n",
      "#10 DONE 3.3s\n"
     ]
    }
   ],
   "source": [
    "!docker build -f Dockerfile -t kinopoisk:1.0.0 ."
   ]
  },
  {
   "cell_type": "markdown",
   "id": "8ef2a7b4",
   "metadata": {},
   "source": [
    "## 3. Изменение манифеста MLflow Project"
   ]
  },
  {
   "cell_type": "code",
   "execution_count": 5,
   "id": "08d135c2",
   "metadata": {},
   "outputs": [],
   "source": [
    "MLproject_content = \"\"\"\n",
    "name: kinopoisk_project\n",
    "\n",
    "docker_env:\n",
    "  image: kinopoisk:1.0.0\n",
    "\n",
    "entry_points:\n",
    "  main:\n",
    "    parameters:\n",
    "      data_file: {type: str, default: \"datasets/kinopoisk_train.csv\"}\n",
    "    command: \"python train.py\"\n",
    "\"\"\"\n",
    "with open(\"MLproject\", \"w\") as file:\n",
    "    file.write(MLproject_content)"
   ]
  },
  {
   "cell_type": "markdown",
   "id": "6d6b8e32",
   "metadata": {},
   "source": [
    "## 4. Запуск эксперимента с помощью MLflow"
   ]
  },
  {
   "attachments": {
    "image-2.png": {
     "image/png": "[encoded data removed]"
    }
   },
   "cell_type": "markdown",
   "id": "c15eb397",
   "metadata": {},
   "source": [
    "![image-2.png](attachment:image-2.png)\n"
   ]
  },
  {
   "cell_type": "code",
   "execution_count": 6,
   "id": "38261bec",
   "metadata": {},
   "outputs": [
    {
     "name": "stderr",
     "output_type": "stream",
     "text": [
      "\"mlflow\" �� ���� ����७��� ��� ���譥�\n",
      "��������, �ᯮ��塞�� �ணࠬ��� ��� ������ 䠩���.\n"
     ]
    }
   ],
   "source": [
    "!mlflow run . --experiment-name=kinopoisk --docker-args network=mlflow-server_mlflow_net --build-image"
   ]
  },
  {
   "cell_type": "markdown",
   "id": "083d31cf",
   "metadata": {},
   "source": [
    "## 5. Запуск эксперимента прямо из репозитория"
   ]
  },
  {
   "cell_type": "code",
   "execution_count": 7,
   "id": "7b866b2e",
   "metadata": {},
   "outputs": [
    {
     "name": "stderr",
     "output_type": "stream",
     "text": [
      "\"mlflow\" �� ���� ����७��� ��� ���譥�\n",
      "��������, �ᯮ��塞�� �ணࠬ��� ��� ������ 䠩���.\n"
     ]
    }
   ],
   "source": [
    "!mlflow run https://github.com/RuDotPy/Skillbox_ml_project2.git --experiment-name=kinopoisk --docker-args network=mlflow-server_mlflow_net --build-image"
   ]
  },
  {
   "cell_type": "markdown",
   "id": "66d89138",
   "metadata": {},
   "source": [
    "Теперь ваш эксперимент будет запускаться в изолированном Docker-контейнере с фиксированным окружением, и код для эксперимента будет извлекаться из вашего удаленного Git-репозитория, что обеспечивает повторяемость и воспроизводимость экспериментов."
   ]
  }
 ],
 "metadata": {
  "kernelspec": {
   "display_name": "Python 3 (ipykernel)",
   "language": "python",
   "name": "python3"
  },
  "language_info": {
   "codemirror_mode": {
    "name": "ipython",
    "version": 3
   },
   "file_extension": ".py",
   "mimetype": "text/x-python",
   "name": "python",
   "nbconvert_exporter": "python",
   "pygments_lexer": "ipython3",
   "version": "3.10.9"
  }
 },
 "nbformat": 4,
 "nbformat_minor": 5
}
